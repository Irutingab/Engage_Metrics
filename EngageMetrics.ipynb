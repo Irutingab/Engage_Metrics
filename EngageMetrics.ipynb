{
 "cells": [
  {
   "cell_type": "code",
   "execution_count": 14,
   "metadata": {
    "id": "l3gFzDrDbJKU"
   },
   "outputs": [],
   "source": [
    "import pandas as pd\n",
    "import numpy as np"
   ]
  },
  {
   "cell_type": "code",
   "execution_count": 15,
   "metadata": {
    "colab": {
     "base_uri": "https://localhost:8080/"
    },
    "id": "Xqc31x59lip-",
    "outputId": "46347f79-608e-44fd-b095-f30762320a1b"
   },
   "outputs": [
    {
     "name": "stdout",
     "output_type": "stream",
     "text": [
      "Path to dataset files: C:\\Users\\perle\\.cache\\kagglehub\\datasets\\lainguyn123\\student-performance-factors\\versions\\8\n"
     ]
    }
   ],
   "source": [
    "import kagglehub\n",
    "\n",
    "# Download latest version\n",
    "path = kagglehub.dataset_download(\"lainguyn123/student-performance-factors\")\n",
    "\n",
    "print(\"Path to dataset files:\", path)"
   ]
  },
  {
   "cell_type": "code",
   "execution_count": 16,
   "metadata": {
    "colab": {
     "base_uri": "https://localhost:8080/",
     "height": 320
    },
    "id": "_RF7nkpelq-8",
    "outputId": "aece3ec8-6c8d-49e1-bd5e-6a907017c3b0"
   },
   "outputs": [
    {
     "data": {
      "text/html": [
       "<div>\n",
       "<style scoped>\n",
       "    .dataframe tbody tr th:only-of-type {\n",
       "        vertical-align: middle;\n",
       "    }\n",
       "\n",
       "    .dataframe tbody tr th {\n",
       "        vertical-align: top;\n",
       "    }\n",
       "\n",
       "    .dataframe thead th {\n",
       "        text-align: right;\n",
       "    }\n",
       "</style>\n",
       "<table border=\"1\" class=\"dataframe\">\n",
       "  <thead>\n",
       "    <tr style=\"text-align: right;\">\n",
       "      <th></th>\n",
       "      <th>Hours_Studied</th>\n",
       "      <th>Attendance</th>\n",
       "      <th>Sleep_Hours</th>\n",
       "      <th>Previous_Scores</th>\n",
       "      <th>Tutoring_Sessions</th>\n",
       "      <th>Physical_Activity</th>\n",
       "      <th>Exam_Score</th>\n",
       "    </tr>\n",
       "  </thead>\n",
       "  <tbody>\n",
       "    <tr>\n",
       "      <th>count</th>\n",
       "      <td>6377.000000</td>\n",
       "      <td>6377.000000</td>\n",
       "      <td>6377.000000</td>\n",
       "      <td>6377.000000</td>\n",
       "      <td>6377.000000</td>\n",
       "      <td>6377.000000</td>\n",
       "      <td>6377.000000</td>\n",
       "    </tr>\n",
       "    <tr>\n",
       "      <th>mean</th>\n",
       "      <td>19.976008</td>\n",
       "      <td>80.018034</td>\n",
       "      <td>7.035126</td>\n",
       "      <td>75.063353</td>\n",
       "      <td>1.494747</td>\n",
       "      <td>2.972714</td>\n",
       "      <td>67.246825</td>\n",
       "    </tr>\n",
       "    <tr>\n",
       "      <th>std</th>\n",
       "      <td>5.985283</td>\n",
       "      <td>11.549434</td>\n",
       "      <td>1.468091</td>\n",
       "      <td>14.399766</td>\n",
       "      <td>1.233300</td>\n",
       "      <td>1.029006</td>\n",
       "      <td>3.891637</td>\n",
       "    </tr>\n",
       "    <tr>\n",
       "      <th>min</th>\n",
       "      <td>1.000000</td>\n",
       "      <td>60.000000</td>\n",
       "      <td>4.000000</td>\n",
       "      <td>50.000000</td>\n",
       "      <td>0.000000</td>\n",
       "      <td>0.000000</td>\n",
       "      <td>55.000000</td>\n",
       "    </tr>\n",
       "    <tr>\n",
       "      <th>25%</th>\n",
       "      <td>16.000000</td>\n",
       "      <td>70.000000</td>\n",
       "      <td>6.000000</td>\n",
       "      <td>63.000000</td>\n",
       "      <td>1.000000</td>\n",
       "      <td>2.000000</td>\n",
       "      <td>65.000000</td>\n",
       "    </tr>\n",
       "    <tr>\n",
       "      <th>50%</th>\n",
       "      <td>20.000000</td>\n",
       "      <td>80.000000</td>\n",
       "      <td>7.000000</td>\n",
       "      <td>75.000000</td>\n",
       "      <td>1.000000</td>\n",
       "      <td>3.000000</td>\n",
       "      <td>67.000000</td>\n",
       "    </tr>\n",
       "    <tr>\n",
       "      <th>75%</th>\n",
       "      <td>24.000000</td>\n",
       "      <td>90.000000</td>\n",
       "      <td>8.000000</td>\n",
       "      <td>88.000000</td>\n",
       "      <td>2.000000</td>\n",
       "      <td>4.000000</td>\n",
       "      <td>69.000000</td>\n",
       "    </tr>\n",
       "    <tr>\n",
       "      <th>max</th>\n",
       "      <td>44.000000</td>\n",
       "      <td>100.000000</td>\n",
       "      <td>10.000000</td>\n",
       "      <td>100.000000</td>\n",
       "      <td>8.000000</td>\n",
       "      <td>6.000000</td>\n",
       "      <td>100.000000</td>\n",
       "    </tr>\n",
       "  </tbody>\n",
       "</table>\n",
       "</div>"
      ],
      "text/plain": [
       "       Hours_Studied   Attendance  Sleep_Hours  Previous_Scores  \\\n",
       "count    6377.000000  6377.000000  6377.000000      6377.000000   \n",
       "mean       19.976008    80.018034     7.035126        75.063353   \n",
       "std         5.985283    11.549434     1.468091        14.399766   \n",
       "min         1.000000    60.000000     4.000000        50.000000   \n",
       "25%        16.000000    70.000000     6.000000        63.000000   \n",
       "50%        20.000000    80.000000     7.000000        75.000000   \n",
       "75%        24.000000    90.000000     8.000000        88.000000   \n",
       "max        44.000000   100.000000    10.000000       100.000000   \n",
       "\n",
       "       Tutoring_Sessions  Physical_Activity   Exam_Score  \n",
       "count        6377.000000        6377.000000  6377.000000  \n",
       "mean            1.494747           2.972714    67.246825  \n",
       "std             1.233300           1.029006     3.891637  \n",
       "min             0.000000           0.000000    55.000000  \n",
       "25%             1.000000           2.000000    65.000000  \n",
       "50%             1.000000           3.000000    67.000000  \n",
       "75%             2.000000           4.000000    69.000000  \n",
       "max             8.000000           6.000000   100.000000  "
      ]
     },
     "execution_count": 16,
     "metadata": {},
     "output_type": "execute_result"
    }
   ],
   "source": [
    "df = pd.read_csv('StudentPerformanceFactors.csv')\n",
    "\n",
    "df.describe()"
   ]
  },
  {
   "cell_type": "code",
   "execution_count": 17,
   "metadata": {
    "colab": {
     "base_uri": "https://localhost:8080/"
    },
    "id": "eot-3pG6bx-S",
    "outputId": "4ac1b020-3c6d-40a8-fa8c-7ccec740dbfa"
   },
   "outputs": [
    {
     "name": "stdout",
     "output_type": "stream",
     "text": [
      "<bound method NDFrame.head of       Hours_Studied  Attendance Parental_Involvement Access_to_Resources  \\\n",
      "0                23          84                  Low                High   \n",
      "1                19          64                  Low              Medium   \n",
      "2                24          98               Medium              Medium   \n",
      "3                29          89                  Low              Medium   \n",
      "4                19          92               Medium              Medium   \n",
      "...             ...         ...                  ...                 ...   \n",
      "6372             25          69                 High              Medium   \n",
      "6373             23          76                 High              Medium   \n",
      "6374             20          90               Medium                 Low   \n",
      "6375             10          86                 High                High   \n",
      "6376             15          67               Medium                 Low   \n",
      "\n",
      "     Extracurricular_Activities  Sleep_Hours  Previous_Scores  \\\n",
      "0                            No            7               73   \n",
      "1                            No            8               59   \n",
      "2                           Yes            7               91   \n",
      "3                           Yes            8               98   \n",
      "4                           Yes            6               65   \n",
      "...                         ...          ...              ...   \n",
      "6372                         No            7               76   \n",
      "6373                         No            8               81   \n",
      "6374                        Yes            6               65   \n",
      "6375                        Yes            6               91   \n",
      "6376                        Yes            9               94   \n",
      "\n",
      "     Motivation_Level Internet_Access  Tutoring_Sessions Family_Income  \\\n",
      "0                 Low             Yes                  0           Low   \n",
      "1                 Low             Yes                  2        Medium   \n",
      "2              Medium             Yes                  2        Medium   \n",
      "3              Medium             Yes                  1        Medium   \n",
      "4              Medium             Yes                  3        Medium   \n",
      "...               ...             ...                ...           ...   \n",
      "6372           Medium             Yes                  1          High   \n",
      "6373           Medium             Yes                  3           Low   \n",
      "6374              Low             Yes                  3           Low   \n",
      "6375             High             Yes                  2           Low   \n",
      "6376           Medium             Yes                  0        Medium   \n",
      "\n",
      "     Teacher_Quality School_Type Peer_Influence  Physical_Activity  \\\n",
      "0             Medium      Public       Positive                  3   \n",
      "1             Medium      Public       Negative                  4   \n",
      "2             Medium      Public        Neutral                  4   \n",
      "3             Medium      Public       Negative                  4   \n",
      "4               High      Public        Neutral                  4   \n",
      "...              ...         ...            ...                ...   \n",
      "6372          Medium      Public       Positive                  2   \n",
      "6373            High      Public       Positive                  2   \n",
      "6374          Medium      Public       Negative                  2   \n",
      "6375          Medium     Private       Positive                  3   \n",
      "6376          Medium      Public       Positive                  4   \n",
      "\n",
      "     Learning_Disabilities Parental_Education_Level Distance_from_Home  \\\n",
      "0                       No              High School               Near   \n",
      "1                       No                  College           Moderate   \n",
      "2                       No             Postgraduate               Near   \n",
      "3                       No              High School           Moderate   \n",
      "4                       No                  College               Near   \n",
      "...                    ...                      ...                ...   \n",
      "6372                    No              High School               Near   \n",
      "6373                    No              High School               Near   \n",
      "6374                    No             Postgraduate               Near   \n",
      "6375                    No              High School                Far   \n",
      "6376                    No             Postgraduate               Near   \n",
      "\n",
      "      Gender  Exam_Score  \n",
      "0       Male        67.0  \n",
      "1     Female        61.0  \n",
      "2       Male        74.0  \n",
      "3       Male        71.0  \n",
      "4     Female        70.0  \n",
      "...      ...         ...  \n",
      "6372  Female        68.0  \n",
      "6373  Female        69.0  \n",
      "6374  Female        68.0  \n",
      "6375  Female        68.0  \n",
      "6376    Male        64.0  \n",
      "\n",
      "[6377 rows x 20 columns]>\n"
     ]
    }
   ],
   "source": [
    "df = pd.read_csv('student_performance_cleaned.csv')\n",
    "print(df.head)"
   ]
  },
  {
   "cell_type": "code",
   "execution_count": 18,
   "metadata": {
    "colab": {
     "base_uri": "https://localhost:8080/"
    },
    "id": "qlphwl8xl6P-",
    "outputId": "7a3c9d08-dec7-40d6-ed2e-fe3f29c11ee5"
   },
   "outputs": [
    {
     "name": "stdout",
     "output_type": "stream",
     "text": [
      "<class 'pandas.core.frame.DataFrame'>\n",
      "RangeIndex: 6377 entries, 0 to 6376\n",
      "Data columns (total 20 columns):\n",
      " #   Column                      Non-Null Count  Dtype  \n",
      "---  ------                      --------------  -----  \n",
      " 0   Hours_Studied               6377 non-null   int64  \n",
      " 1   Attendance                  6377 non-null   int64  \n",
      " 2   Parental_Involvement        6377 non-null   object \n",
      " 3   Access_to_Resources         6377 non-null   object \n",
      " 4   Extracurricular_Activities  6377 non-null   object \n",
      " 5   Sleep_Hours                 6377 non-null   int64  \n",
      " 6   Previous_Scores             6377 non-null   int64  \n",
      " 7   Motivation_Level            6377 non-null   object \n",
      " 8   Internet_Access             6377 non-null   object \n",
      " 9   Tutoring_Sessions           6377 non-null   int64  \n",
      " 10  Family_Income               6377 non-null   object \n",
      " 11  Teacher_Quality             6377 non-null   object \n",
      " 12  School_Type                 6377 non-null   object \n",
      " 13  Peer_Influence              6377 non-null   object \n",
      " 14  Physical_Activity           6377 non-null   int64  \n",
      " 15  Learning_Disabilities       6377 non-null   object \n",
      " 16  Parental_Education_Level    6377 non-null   object \n",
      " 17  Distance_from_Home          6377 non-null   object \n",
      " 18  Gender                      6377 non-null   object \n",
      " 19  Exam_Score                  6376 non-null   float64\n",
      "dtypes: float64(1), int64(6), object(13)\n",
      "memory usage: 996.5+ KB\n"
     ]
    }
   ],
   "source": [
    "df.info()"
   ]
  },
  {
   "cell_type": "code",
   "execution_count": 19,
   "metadata": {
    "colab": {
     "base_uri": "https://localhost:8080/"
    },
    "id": "_giR4y8nmDLQ",
    "outputId": "15e8c865-071b-40d9-c62e-15837a156182"
   },
   "outputs": [
    {
     "name": "stdout",
     "output_type": "stream",
     "text": [
      "Original dataset overwritten and cleaned data saved to both 'StudentPerformanceFactors.csv' and 'student_performance_cleaned.csv'.\n",
      "Number of students remaining: 6377\n"
     ]
    }
   ],
   "source": [
    "df = pd.read_csv('StudentPerformanceFactors.csv')\n",
    "\n",
    "# Drop rows with any missing values\n",
    "df_cleaned = df.dropna().copy()\n",
    "\n",
    "# Remove any student with Exam_Score > 100\n",
    "df_cleaned = df_cleaned[df_cleaned['Exam_Score'] <= 100]\n",
    "\n",
    "# Overwrite the original dataset with the cleaned data\n",
    "df_cleaned.to_csv('StudentPerformanceFactors.csv', index=False)\n",
    "df_cleaned.to_csv('student_performance_cleaned.csv', index=False)\n",
    "\n",
    "print(\"Original dataset overwritten and cleaned data saved to both 'StudentPerformanceFactors.csv' and 'student_performance_cleaned.csv'.\")\n",
    "print('Number of students remaining:', len(df_cleaned))"
   ]
  },
  {
   "cell_type": "code",
   "execution_count": 20,
   "metadata": {
    "colab": {
     "base_uri": "https://localhost:8080/"
    },
    "id": "0e7F6UPKd9GZ",
    "outputId": "446c9789-1f5e-42d9-a390-6e804ec6c2c0"
   },
   "outputs": [
    {
     "name": "stdout",
     "output_type": "stream",
     "text": [
      "   Hours_Studied  Attendance Parental_Involvement Access_to_Resources  \\\n",
      "0             23          84                  Low                High   \n",
      "1             19          64                  Low              Medium   \n",
      "2             24          98               Medium              Medium   \n",
      "3             29          89                  Low              Medium   \n",
      "4             19          92               Medium              Medium   \n",
      "\n",
      "  Extracurricular_Activities  Sleep_Hours  Previous_Scores Motivation_Level  \\\n",
      "0                         No            7               73              Low   \n",
      "1                         No            8               59              Low   \n",
      "2                        Yes            7               91           Medium   \n",
      "3                        Yes            8               98           Medium   \n",
      "4                        Yes            6               65           Medium   \n",
      "\n",
      "  Internet_Access  Tutoring_Sessions Family_Income Teacher_Quality  \\\n",
      "0             Yes                  0           Low          Medium   \n",
      "1             Yes                  2        Medium          Medium   \n",
      "2             Yes                  2        Medium          Medium   \n",
      "3             Yes                  1        Medium          Medium   \n",
      "4             Yes                  3        Medium            High   \n",
      "\n",
      "  School_Type Peer_Influence  Physical_Activity Learning_Disabilities  \\\n",
      "0      Public       Positive                  3                    No   \n",
      "1      Public       Negative                  4                    No   \n",
      "2      Public        Neutral                  4                    No   \n",
      "3      Public       Negative                  4                    No   \n",
      "4      Public        Neutral                  4                    No   \n",
      "\n",
      "  Parental_Education_Level Distance_from_Home  Gender  Exam_Score  \n",
      "0              High School               Near    Male          67  \n",
      "1                  College           Moderate  Female          61  \n",
      "2             Postgraduate               Near    Male          74  \n",
      "3              High School           Moderate    Male          71  \n",
      "4                  College               Near  Female          70  \n",
      "(6377, 20)\n"
     ]
    }
   ],
   "source": [
    "print(df.head())\n",
    "\n",
    "# Check the data shape\n",
    "print(df.shape)"
   ]
  },
  {
   "cell_type": "code",
   "execution_count": 21,
   "metadata": {},
   "outputs": [
    {
     "name": "stdout",
     "output_type": "stream",
     "text": [
      "      Hours_Studied  Attendance Parental_Involvement Access_to_Resources  \\\n",
      "6372             25          69                 High              Medium   \n",
      "6373             23          76                 High              Medium   \n",
      "6374             20          90               Medium                 Low   \n",
      "6375             10          86                 High                High   \n",
      "6376             15          67               Medium                 Low   \n",
      "\n",
      "     Extracurricular_Activities  Sleep_Hours  Previous_Scores  \\\n",
      "6372                         No            7               76   \n",
      "6373                         No            8               81   \n",
      "6374                        Yes            6               65   \n",
      "6375                        Yes            6               91   \n",
      "6376                        Yes            9               94   \n",
      "\n",
      "     Motivation_Level Internet_Access  Tutoring_Sessions Family_Income  \\\n",
      "6372           Medium             Yes                  1          High   \n",
      "6373           Medium             Yes                  3           Low   \n",
      "6374              Low             Yes                  3           Low   \n",
      "6375             High             Yes                  2           Low   \n",
      "6376           Medium             Yes                  0        Medium   \n",
      "\n",
      "     Teacher_Quality School_Type Peer_Influence  Physical_Activity  \\\n",
      "6372          Medium      Public       Positive                  2   \n",
      "6373            High      Public       Positive                  2   \n",
      "6374          Medium      Public       Negative                  2   \n",
      "6375          Medium     Private       Positive                  3   \n",
      "6376          Medium      Public       Positive                  4   \n",
      "\n",
      "     Learning_Disabilities Parental_Education_Level Distance_from_Home  \\\n",
      "6372                    No              High School               Near   \n",
      "6373                    No              High School               Near   \n",
      "6374                    No             Postgraduate               Near   \n",
      "6375                    No              High School                Far   \n",
      "6376                    No             Postgraduate               Near   \n",
      "\n",
      "      Gender  Exam_Score  \n",
      "6372  Female          68  \n",
      "6373  Female          69  \n",
      "6374  Female          68  \n",
      "6375  Female          68  \n",
      "6376    Male          64  \n"
     ]
    }
   ],
   "source": [
    "print(df.tail(5))"
   ]
  },
  {
   "cell_type": "code",
   "execution_count": 22,
   "metadata": {},
   "outputs": [
    {
     "name": "stdout",
     "output_type": "stream",
     "text": [
      "Students with Exam_Score > 100 removed. Cleaned data saved to student_performance_cleaned.csv.\n",
      "Number of students remaining: 6377\n"
     ]
    }
   ],
   "source": [
    "# Remove any student with Exam_Score > 100 and save the cleaned data\n",
    "df_cleaned = df_cleaned[df_cleaned['Exam_Score'] <= 100]\n",
    "df_cleaned.to_csv('student_performance_cleaned.csv', index=False)\n",
    "print('Students with Exam_Score > 100 removed. Cleaned data saved to student_performance_cleaned.csv.')\n",
    "print('Number of students remaining:', len(df_cleaned))"
   ]
  },
  {
   "cell_type": "code",
   "execution_count": 23,
   "metadata": {},
   "outputs": [
    {
     "name": "stdout",
     "output_type": "stream",
     "text": [
      "Total Students: 6377\n",
      "Average Exam Score: 67.24682452563901\n",
      "Average Attendance: 80.01803355809942\n",
      "High Performers (>70): 16.528148031989964\n"
     ]
    }
   ],
   "source": [
    "# Total Students\n",
    "total_students = len(df_cleaned)\n",
    "print(\"Total Students:\", total_students)\n",
    "\n",
    "# Average Exam Score\n",
    "avg_score = df_cleaned['Exam_Score'].mean()\n",
    "print(\"Average Exam Score:\", avg_score)\n",
    "\n",
    "# Average Attendance\n",
    "avg_attendance = df_cleaned['Attendance'].mean()\n",
    "print(\"Average Attendance:\", avg_attendance)\n",
    "\n",
    "# High Performers (>70)\n",
    "high_performers_pct = (df_cleaned['Exam_Score'] > 70).mean() * 100\n",
    "print(\"High Performers (>70):\", high_performers_pct)"
   ]
  }
 ],
 "metadata": {
  "colab": {
   "provenance": []
  },
  "kernelspec": {
   "display_name": "Python 3",
   "name": "python3"
  },
  "language_info": {
   "codemirror_mode": {
    "name": "ipython",
    "version": 3
   },
   "file_extension": ".py",
   "mimetype": "text/x-python",
   "name": "python",
   "nbconvert_exporter": "python",
   "pygments_lexer": "ipython3",
   "version": "3.13.5"
  }
 },
 "nbformat": 4,
 "nbformat_minor": 0
}
